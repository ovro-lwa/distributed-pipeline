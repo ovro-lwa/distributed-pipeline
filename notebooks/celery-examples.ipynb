{
 "cells": [
  {
   "cell_type": "markdown",
   "metadata": {},
   "source": [
    "# Annnotated celery examples\n",
    "This document shows both basic and more real-world examples of celery usage."
   ]
  },
  {
   "cell_type": "markdown",
   "metadata": {},
   "source": [
    "Relevant pages from celery's documentation\n",
    "https://docs.celeryproject.org/en/stable/userguide/calling.html\n",
    "https://docs.celeryproject.org/en/stable/userguide/canvas.html"
   ]
  },
  {
   "cell_type": "markdown",
   "metadata": {},
   "source": [
    "## Asynchronous (i.e. remote and non-blocking) invocation of tasks"
   ]
  },
  {
   "cell_type": "markdown",
   "metadata": {},
   "source": [
    "`orca.proj.boilerplate` is where the celery-ized tasks live. This section uses add(x, y) that adds two numbers to illustrate celery task invocation"
   ]
  },
  {
   "cell_type": "code",
   "execution_count": 1,
   "metadata": {},
   "outputs": [],
   "source": [
    "import glob\n",
    "from orca.proj import boilerplate"
   ]
  },
  {
   "cell_type": "markdown",
   "metadata": {},
   "source": [
    "Start with a basic one, add numbers! `group` and `chain` are celery primitives that model a group of tasks or a chain of tasks (i.e. one depending on the previous one)"
   ]
  },
  {
   "cell_type": "code",
   "execution_count": 2,
   "metadata": {},
   "outputs": [],
   "source": [
    "from celery import group, chain"
   ]
  },
  {
   "cell_type": "code",
   "execution_count": 30,
   "metadata": {},
   "outputs": [
    {
     "data": {
      "text/plain": [
       "celery.local.PromiseProxy"
      ]
     },
     "execution_count": 30,
     "metadata": {},
     "output_type": "execute_result"
    }
   ],
   "source": [
    "type(boilerplate.add)"
   ]
  },
  {
   "cell_type": "code",
   "execution_count": 26,
   "metadata": {},
   "outputs": [
    {
     "data": {
      "text/plain": [
       "2"
      ]
     },
     "execution_count": 26,
     "metadata": {},
     "output_type": "execute_result"
    }
   ],
   "source": [
    "# This runs on the current node\n",
    "boilerplate.add(1, 1)"
   ]
  },
  {
   "cell_type": "markdown",
   "metadata": {},
   "source": [
    "The quickiest way to run a task on a worker is by using the `delay()` method. Note that you can assign the `AsyncResult` to a variable and then use its `get()` method to get its results."
   ]
  },
  {
   "cell_type": "code",
   "execution_count": 33,
   "metadata": {},
   "outputs": [
    {
     "data": {
      "text/plain": [
       "<AsyncResult: 4e7eba9a-619c-40dc-9de1-5be7a7dbb4f7>"
      ]
     },
     "execution_count": 33,
     "metadata": {},
     "output_type": "execute_result"
    }
   ],
   "source": [
    "# So does this.\n",
    "boilerplate.add.delay(1, 1)"
   ]
  },
  {
   "cell_type": "markdown",
   "metadata": {},
   "source": [
    "## Embarassingly parallel operations: group"
   ]
  },
  {
   "cell_type": "markdown",
   "metadata": {},
   "source": [
    "To add lots of pairs of numbers (an embarassingly parallel operation) you can call"
   ]
  },
  {
   "cell_type": "code",
   "execution_count": 32,
   "metadata": {},
   "outputs": [
    {
     "data": {
      "text/plain": [
       "<GroupResult: bbba6cb9-7893-40de-ae91-65663f4e8d4f [5a125dea-9711-4860-bbeb-c2214e2a2e7a, fab2c2a7-7f37-4fa5-891c-7d52f055be29, e93e844e-92c3-4409-9462-df6728238690, f26d48d6-1f5f-4077-88ad-5577eec63149, b8802639-5c51-4c5e-a500-684df55096d4, 5bd224f7-e89c-4974-9ffe-2f897f8fd202, 8cd49e4f-fbf1-4a65-862a-659f39f87ee9]>"
      ]
     },
     "execution_count": 32,
     "metadata": {},
     "output_type": "execute_result"
    }
   ],
   "source": [
    "group([boilerplate.add.s(a, a) for a  in [1,2,3,4,5,6,7]])()"
   ]
  },
  {
   "cell_type": "markdown",
   "metadata": {},
   "source": [
    "Couple things happened there. `.s` is the method that creates the signatures for celery to execute, rather than executing the commands right away. `group()` creates the group of signatures (each can be done in parallel), and calling `()` on the `group` sends the group to the queue.\n",
    "\n",
    "You can write a `for` loop and invoke `delay()` one by one to achieve the same thing as `group`, but `group` makes keeping track of the results easier."
   ]
  },
  {
   "cell_type": "code",
   "execution_count": 36,
   "metadata": {},
   "outputs": [
    {
     "data": {
      "text/plain": [
       "2"
      ]
     },
     "execution_count": 36,
     "metadata": {},
     "output_type": "execute_result"
    }
   ],
   "source": [
    "# Sidenote: this runs on the current node\n",
    "boilerplate.add.s(1, 1)()"
   ]
  },
  {
   "cell_type": "code",
   "execution_count": 37,
   "metadata": {},
   "outputs": [
    {
     "data": {
      "text/plain": [
       "<AsyncResult: 8f7f5321-571c-49b0-bdeb-55cd43940058>"
      ]
     },
     "execution_count": 37,
     "metadata": {},
     "output_type": "execute_result"
    }
   ],
   "source": [
    "# Sidenote2: this runs on the a worker and is equivalent to boilerplate.add.s.delay(1,1)\n",
    "boilerplate.add.s(1, 1).delay()"
   ]
  },
  {
   "cell_type": "markdown",
   "metadata": {},
   "source": [
    "# Things that depend on each other: chain"
   ]
  },
  {
   "cell_type": "markdown",
   "metadata": {},
   "source": [
    "The following executes one `add` at a time (not necessarily on the same worker!). Only the result of the last task gets returned\n",
    "\n",
    "\n",
    "## Example 1\n",
    "\n",
    "`si` stands for \"immutable signature\", which means \"don't feed the previous call's results into me\". The following returns 3"
   ]
  },
  {
   "cell_type": "code",
   "execution_count": 39,
   "metadata": {},
   "outputs": [
    {
     "data": {
      "text/plain": [
       "<AsyncResult: bd071377-c853-42e8-bb11-49c72b793039>"
      ]
     },
     "execution_count": 39,
     "metadata": {},
     "output_type": "execute_result"
    }
   ],
   "source": [
    "chain(boilerplate.add.si(0,1), boilerplate.add.si(1,1), boilerplate.add.si(1,2))()"
   ]
  },
  {
   "cell_type": "markdown",
   "metadata": {},
   "source": [
    "## Example 2\n",
    "Using `.s()` means that the previous task can feed its return value into the next method.\n",
    "For the following code, add(0,1) will be evaluated first, and then add(2, 1) will be evaluated next (note the order of arguments). The chain returns 3."
   ]
  },
  {
   "cell_type": "code",
   "execution_count": 40,
   "metadata": {},
   "outputs": [
    {
     "data": {
      "text/plain": [
       "<AsyncResult: 9274b9ad-8c5c-40c4-bbc1-a6f23061ab13>"
      ]
     },
     "execution_count": 40,
     "metadata": {},
     "output_type": "execute_result"
    }
   ],
   "source": [
    "chain(boilerplate.add.s(0,1), boilerplate.add.s(2))()"
   ]
  },
  {
   "cell_type": "markdown",
   "metadata": {},
   "source": [
    "You can use the pipe operator to construct chains (much like bash)"
   ]
  },
  {
   "cell_type": "code",
   "execution_count": 42,
   "metadata": {},
   "outputs": [
    {
     "data": {
      "text/plain": [
       "<AsyncResult: 12dff6f1-c13b-4504-8494-0a78fc048034>"
      ]
     },
     "execution_count": 42,
     "metadata": {},
     "output_type": "execute_result"
    }
   ],
   "source": [
    "(boilerplate.add.s(0,1) | boilerplate.add.s(2))()"
   ]
  },
  {
   "cell_type": "markdown",
   "metadata": {},
   "source": [
    "# A recent example"
   ]
  },
  {
   "cell_type": "markdown",
   "metadata": {},
   "source": [
    "The following code merges flags and correct scaling for sidereally separated pairs of measurement sets. And then integrate them."
   ]
  },
  {
   "cell_type": "code",
   "execution_count": 3,
   "metadata": {},
   "outputs": [],
   "source": [
    "DATA_DIR = '/lustre/yuping/0-100-hr-reduction/averaging-test/hh=03'"
   ]
  },
  {
   "cell_type": "code",
   "execution_count": 23,
   "metadata": {},
   "outputs": [],
   "source": [
    "day1 = sorted(glob.glob(f'{DATA_DIR}/2018-03-22/2018*T*'))\n",
    "day2 = sorted(glob.glob(f'{DATA_DIR}/2018-03-23/2018*T*'))"
   ]
  },
  {
   "cell_type": "markdown",
   "metadata": {},
   "source": [
    "This is about 40 minutes of data"
   ]
  },
  {
   "cell_type": "code",
   "execution_count": 24,
   "metadata": {},
   "outputs": [
    {
     "data": {
      "text/plain": [
       "189"
      ]
     },
     "execution_count": 24,
     "metadata": {},
     "output_type": "execute_result"
    }
   ],
   "source": [
    "len(day1)"
   ]
  },
  {
   "cell_type": "code",
   "execution_count": 25,
   "metadata": {},
   "outputs": [
    {
     "data": {
      "text/plain": [
       "189"
      ]
     },
     "execution_count": 25,
     "metadata": {},
     "output_type": "execute_result"
    }
   ],
   "source": [
    "len(day2)"
   ]
  },
  {
   "cell_type": "markdown",
   "metadata": {},
   "source": [
    "Verify that the same indexed elements in the two arrays are one sidereal day apart"
   ]
  },
  {
   "cell_type": "code",
   "execution_count": 10,
   "metadata": {},
   "outputs": [
    {
     "data": {
      "text/plain": [
       "'/lustre/yuping/0-100-hr-reduction/averaging-test/hh=03/2018-03-22/2018-03-22T03:50:49'"
      ]
     },
     "execution_count": 10,
     "metadata": {},
     "output_type": "execute_result"
    }
   ],
   "source": [
    "day1[-1]"
   ]
  },
  {
   "cell_type": "code",
   "execution_count": 11,
   "metadata": {},
   "outputs": [
    {
     "data": {
      "text/plain": [
       "'/lustre/yuping/0-100-hr-reduction/averaging-test/hh=03/2018-03-23/2018-03-23T03:46:53'"
      ]
     },
     "execution_count": 11,
     "metadata": {},
     "output_type": "execute_result"
    }
   ],
   "source": [
    "day2[-1]"
   ]
  },
  {
   "cell_type": "markdown",
   "metadata": {},
   "source": [
    "The following queues a bunch of chains that merge the flags first and then do the gain scaling. I started a bunch of workers with concurrency 10 for this."
   ]
  },
  {
   "cell_type": "code",
   "execution_count": 13,
   "metadata": {},
   "outputs": [],
   "source": [
    "for i in range(len(day1)):\n",
    "    for spw in range(22):\n",
    "        ms1 = glob.glob(f'{day1[i]}/{spw:02d}_*ms')[0]\n",
    "        ms2 = glob.glob(f'{day2[i]}/{spw:02d}_*ms')[0]\n",
    "        (boilerplate.run_merge_flags.si(ms1, ms2) | boilerplate.run_correct_scaling.si(ms1, ms2))()"
   ]
  },
  {
   "cell_type": "markdown",
   "metadata": {},
   "source": [
    "The following queues a bunch of concat runs. I changed the concurrency to 4 (see next section) before running this so that 4 concat runs on each node."
   ]
  },
  {
   "cell_type": "code",
   "execution_count": 19,
   "metadata": {},
   "outputs": [],
   "source": [
    "for spw in range(22):\n",
    "    s = f'{spw:02d}'\n",
    "    boilerplate.run_integrate_with_concat.delay(sorted(glob.glob(f'{DATA_DIR}/2018-03-22/2018*T*/{s}_*ms')),\n",
    "                                            out_ms=f'{DATA_DIR}/2018-03-22/{s}_10min.ms')\n",
    "    boilerplate.run_integrate_with_concat.delay(sorted(glob.glob(f'{DATA_DIR}/2018-03-23/2018*T*/{s}_*ms')),\n",
    "                                            out_ms=f'{DATA_DIR}/2018-03-23/{s}_10min.ms')"
   ]
  },
  {
   "cell_type": "markdown",
   "metadata": {},
   "source": [
    "# Worker control (still a work in progress)\n",
    "Changing worker capacity, etc.\n",
    "\n",
    "You should probably use the `start_workers.py` script to start workers across the cluster. The following commands show how you would change the concurrency for the workers (each node currently has one worker and each worker runs `concurrency` tasks in parallel via subprocessing."
   ]
  },
  {
   "cell_type": "code",
   "execution_count": 14,
   "metadata": {},
   "outputs": [],
   "source": [
    "from orca.proj.celery import app\n",
    "from celery.app.control import Control\n",
    "controller = Control(app)"
   ]
  },
  {
   "cell_type": "markdown",
   "metadata": {},
   "source": [
    "You can increase the concurrency per node using `pool_grow(x)` where `x` is the number of concurrencies to add to each node"
   ]
  },
  {
   "cell_type": "code",
   "execution_count": 35,
   "metadata": {},
   "outputs": [],
   "source": [
    "controller.pool_grow(7)"
   ]
  },
  {
   "cell_type": "markdown",
   "metadata": {},
   "source": [
    "Shrinking capacity is still a work in progress. You can only use the following command when workers aren't doing work."
   ]
  },
  {
   "cell_type": "code",
   "execution_count": 18,
   "metadata": {},
   "outputs": [],
   "source": [
    "controller.pool_shrink(7)"
   ]
  }
 ],
 "metadata": {
  "kernelspec": {
   "display_name": "orca",
   "language": "python",
   "name": "orca"
  },
  "language_info": {
   "codemirror_mode": {
    "name": "ipython",
    "version": 3
   },
   "file_extension": ".py",
   "mimetype": "text/x-python",
   "name": "python",
   "nbconvert_exporter": "python",
   "pygments_lexer": "ipython3",
   "version": "3.6.10"
  }
 },
 "nbformat": 4,
 "nbformat_minor": 2
}
