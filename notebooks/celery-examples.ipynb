{
 "cells": [
  {
   "cell_type": "markdown",
   "metadata": {},
   "source": [
    "# Annnotated celery examples\n",
    "This document shows both basic and more real-world examples of celery usage."
   ]
  },
  {
   "cell_type": "markdown",
   "metadata": {},
   "source": [
    "Relevant pages from celery's documentation\n",
    "https://docs.celeryproject.org/en/stable/userguide/calling.html\n",
    "https://docs.celeryproject.org/en/stable/userguide/canvas.html"
   ]
  },
  {
   "cell_type": "markdown",
   "metadata": {},
   "source": [
    "## Asynchronous (i.e. remote and non-blocking) invocation of tasks"
   ]
  },
  {
   "cell_type": "markdown",
   "metadata": {},
   "source": [
    "`orca.proj.boilerplate` is where the celery-ized tasks live. This section uses add(x, y) that adds two numbers to illustrate celery task invocation"
   ]
  },
  {
   "cell_type": "code",
   "execution_count": 1,
   "metadata": {},
   "outputs": [],
   "source": [
    "import glob\n",
    "from orca.proj import boilerplate"
   ]
  },
  {
   "cell_type": "markdown",
   "metadata": {},
   "source": [
    "Start with a basic one, add numbers! `group` and `chain` are celery primitives that model a group of tasks or a chain of tasks (i.e. one depending on the previous one)"
   ]
  },
  {
   "cell_type": "code",
   "execution_count": 2,
   "metadata": {},
   "outputs": [],
   "source": [
    "from celery import group, chain"
   ]
  },
  {
   "cell_type": "code",
   "execution_count": 3,
   "metadata": {},
   "outputs": [
    {
     "data": {
      "text/plain": [
       "celery.local.PromiseProxy"
      ]
     },
     "execution_count": 3,
     "metadata": {},
     "output_type": "execute_result"
    }
   ],
   "source": [
    "type(boilerplate.add)"
   ]
  },
  {
   "cell_type": "code",
   "execution_count": 4,
   "metadata": {},
   "outputs": [
    {
     "data": {
      "text/plain": [
       "2"
      ]
     },
     "execution_count": 4,
     "metadata": {},
     "output_type": "execute_result"
    }
   ],
   "source": [
    "# This runs on the current node\n",
    "boilerplate.add(1, 1)"
   ]
  },
  {
   "cell_type": "markdown",
   "metadata": {},
   "source": [
    "The quickiest way to run a task on a worker is by using the `delay()` method. Note that you can assign the `AsyncResult` to a variable and then use its `get()` method to get its results."
   ]
  },
  {
   "cell_type": "code",
   "execution_count": 5,
   "metadata": {},
   "outputs": [
    {
     "data": {
      "text/plain": [
       "<AsyncResult: aa9dc77f-28b9-4d64-bc27-608ea5d79e06>"
      ]
     },
     "execution_count": 5,
     "metadata": {},
     "output_type": "execute_result"
    }
   ],
   "source": [
    "# So does this.\n",
    "boilerplate.add.delay(1, 1)"
   ]
  },
  {
   "cell_type": "markdown",
   "metadata": {},
   "source": [
    "## Embarassingly parallel operations: group"
   ]
  },
  {
   "cell_type": "markdown",
   "metadata": {},
   "source": [
    "To add lots of pairs of numbers (an embarassingly parallel operation) you can call"
   ]
  },
  {
   "cell_type": "code",
   "execution_count": 6,
   "metadata": {},
   "outputs": [
    {
     "data": {
      "text/plain": [
       "<GroupResult: d74d4b59-02e8-46d5-82f2-ead29c5a8c66 [c0533143-36c1-496a-9aa5-099e0c9a59c2, 21e38a85-1ec3-457d-b35d-8bea205d8f5c, ddddbb38-ec05-432d-91f1-f65ba91ca5bc, 79271ff9-b1d3-4c81-955f-22db302cea4d, 17417b02-5366-4776-9b49-a13e7310214e, 2b220435-03c8-4123-8d71-b04a97289d16, 944d279d-08d5-493d-b13d-11f41325e7b6]>"
      ]
     },
     "execution_count": 6,
     "metadata": {},
     "output_type": "execute_result"
    }
   ],
   "source": [
    "group([boilerplate.add.s(a, a) for a  in [1,2,3,4,5,6,7]])()"
   ]
  },
  {
   "cell_type": "markdown",
   "metadata": {},
   "source": [
    "Couple things happened there. `.s` is the method that creates the signatures for celery to execute, rather than executing the commands right away. `group()` creates the group of signatures (each can be done in parallel), and calling `()` on the `group` sends the group to the queue.\n",
    "\n",
    "You can write a `for` loop and invoke `delay()` one by one to achieve the same thing as `group`, but `group` makes keeping track of the results easier."
   ]
  },
  {
   "cell_type": "code",
   "execution_count": 7,
   "metadata": {},
   "outputs": [
    {
     "data": {
      "text/plain": [
       "2"
      ]
     },
     "execution_count": 7,
     "metadata": {},
     "output_type": "execute_result"
    }
   ],
   "source": [
    "# Sidenote: this runs on the current node\n",
    "boilerplate.add.s(1, 1)()"
   ]
  },
  {
   "cell_type": "code",
   "execution_count": 8,
   "metadata": {},
   "outputs": [
    {
     "data": {
      "text/plain": [
       "<AsyncResult: bda5a418-31f6-429a-8a40-77f9c35b7f2e>"
      ]
     },
     "execution_count": 8,
     "metadata": {},
     "output_type": "execute_result"
    }
   ],
   "source": [
    "# Sidenote2: this runs on the a worker and is equivalent to boilerplate.add.s.delay(1,1)\n",
    "boilerplate.add.s(1, 1).delay()"
   ]
  },
  {
   "cell_type": "markdown",
   "metadata": {},
   "source": [
    "# Things that depend on each other: chain"
   ]
  },
  {
   "cell_type": "markdown",
   "metadata": {},
   "source": [
    "The following executes one `add` at a time (not necessarily on the same worker!). Only the result of the last task gets returned\n",
    "\n",
    "\n",
    "## Example 1\n",
    "\n",
    "`si` stands for \"immutable signature\", which means \"don't feed the previous call's results into me\". The following returns 3"
   ]
  },
  {
   "cell_type": "code",
   "execution_count": 9,
   "metadata": {},
   "outputs": [
    {
     "data": {
      "text/plain": [
       "3"
      ]
     },
     "execution_count": 9,
     "metadata": {},
     "output_type": "execute_result"
    }
   ],
   "source": [
    "chain(boilerplate.add.si(0,1), boilerplate.add.si(1,1), boilerplate.add.si(1,2))().get()"
   ]
  },
  {
   "cell_type": "markdown",
   "metadata": {},
   "source": [
    "## Example 2\n",
    "Using `.s()` means that the previous task can feed its return value into the first argument of the next method.\n",
    "\n",
    "The task str_concat is defined as follows\n",
    "```\n",
    "@app.task\n",
    "def str_concat(first, second, third=''):\n",
    "    return f'{first}{second}{third}'\n",
    "```"
   ]
  },
  {
   "cell_type": "code",
   "execution_count": 10,
   "metadata": {},
   "outputs": [
    {
     "data": {
      "text/plain": [
       "'abc'"
      ]
     },
     "execution_count": 10,
     "metadata": {},
     "output_type": "execute_result"
    }
   ],
   "source": [
    "chain(boilerplate.str_concat.s('a','b'), boilerplate.str_concat.s('c'))().get()"
   ]
  },
  {
   "cell_type": "code",
   "execution_count": 11,
   "metadata": {},
   "outputs": [
    {
     "data": {
      "text/plain": [
       "'abcd'"
      ]
     },
     "execution_count": 11,
     "metadata": {},
     "output_type": "execute_result"
    }
   ],
   "source": [
    "chain(boilerplate.str_concat.s('a','b'), boilerplate.str_concat.s('c', 'd'))().get()"
   ]
  },
  {
   "cell_type": "markdown",
   "metadata": {},
   "source": [
    "which is equivalent to"
   ]
  },
  {
   "cell_type": "code",
   "execution_count": 12,
   "metadata": {},
   "outputs": [
    {
     "data": {
      "text/plain": [
       "'abcd'"
      ]
     },
     "execution_count": 12,
     "metadata": {},
     "output_type": "execute_result"
    }
   ],
   "source": [
    "chain(boilerplate.str_concat.s('a','b'), boilerplate.str_concat.s('c', third='d'))().get()"
   ]
  },
  {
   "cell_type": "markdown",
   "metadata": {},
   "source": [
    "*Warning* The following will get a\n",
    "```\n",
    "TypeError: str_concat() got multiple values for argument 'first'\n",
    "```\n",
    "on the task remotely."
   ]
  },
  {
   "cell_type": "code",
   "execution_count": 13,
   "metadata": {},
   "outputs": [
    {
     "data": {
      "text/plain": [
       "<AsyncResult: 70103357-9f3d-496b-b3a2-33b29851154e>"
      ]
     },
     "execution_count": 13,
     "metadata": {},
     "output_type": "execute_result"
    }
   ],
   "source": [
    "chain(boilerplate.str_concat.s('a','b'), boilerplate.str_concat.s(first='d'))()"
   ]
  },
  {
   "cell_type": "markdown",
   "metadata": {},
   "source": [
    "`chain` is not the most flexible thing ever as far as the syntax goes."
   ]
  },
  {
   "cell_type": "markdown",
   "metadata": {},
   "source": [
    "You can use the pipe operator to construct chains (much like bash)"
   ]
  },
  {
   "cell_type": "code",
   "execution_count": 14,
   "metadata": {},
   "outputs": [
    {
     "data": {
      "text/plain": [
       "'abc'"
      ]
     },
     "execution_count": 14,
     "metadata": {},
     "output_type": "execute_result"
    }
   ],
   "source": [
    "(boilerplate.str_concat.s('a','b')| boilerplate.str_concat.s('c'))().get()"
   ]
  },
  {
   "cell_type": "markdown",
   "metadata": {},
   "source": [
    "# A recent example"
   ]
  },
  {
   "cell_type": "markdown",
   "metadata": {},
   "source": [
    "The following code merges flags and correct scaling for sidereally separated pairs of measurement sets. And then integrate them."
   ]
  },
  {
   "cell_type": "code",
   "execution_count": 3,
   "metadata": {},
   "outputs": [],
   "source": [
    "DATA_DIR = '/lustre/yuping/0-100-hr-reduction/averaging-test/hh=03'"
   ]
  },
  {
   "cell_type": "code",
   "execution_count": 23,
   "metadata": {},
   "outputs": [],
   "source": [
    "day1 = sorted(glob.glob(f'{DATA_DIR}/2018-03-22/2018*T*'))\n",
    "day2 = sorted(glob.glob(f'{DATA_DIR}/2018-03-23/2018*T*'))"
   ]
  },
  {
   "cell_type": "markdown",
   "metadata": {},
   "source": [
    "This is about 40 minutes of data"
   ]
  },
  {
   "cell_type": "code",
   "execution_count": 24,
   "metadata": {},
   "outputs": [
    {
     "data": {
      "text/plain": [
       "189"
      ]
     },
     "execution_count": 24,
     "metadata": {},
     "output_type": "execute_result"
    }
   ],
   "source": [
    "len(day1)"
   ]
  },
  {
   "cell_type": "code",
   "execution_count": 25,
   "metadata": {},
   "outputs": [
    {
     "data": {
      "text/plain": [
       "189"
      ]
     },
     "execution_count": 25,
     "metadata": {},
     "output_type": "execute_result"
    }
   ],
   "source": [
    "len(day2)"
   ]
  },
  {
   "cell_type": "markdown",
   "metadata": {},
   "source": [
    "Verify that the same indexed elements in the two arrays are one sidereal day apart"
   ]
  },
  {
   "cell_type": "code",
   "execution_count": 10,
   "metadata": {},
   "outputs": [
    {
     "data": {
      "text/plain": [
       "'/lustre/yuping/0-100-hr-reduction/averaging-test/hh=03/2018-03-22/2018-03-22T03:50:49'"
      ]
     },
     "execution_count": 10,
     "metadata": {},
     "output_type": "execute_result"
    }
   ],
   "source": [
    "day1[-1]"
   ]
  },
  {
   "cell_type": "code",
   "execution_count": 11,
   "metadata": {},
   "outputs": [
    {
     "data": {
      "text/plain": [
       "'/lustre/yuping/0-100-hr-reduction/averaging-test/hh=03/2018-03-23/2018-03-23T03:46:53'"
      ]
     },
     "execution_count": 11,
     "metadata": {},
     "output_type": "execute_result"
    }
   ],
   "source": [
    "day2[-1]"
   ]
  },
  {
   "cell_type": "markdown",
   "metadata": {},
   "source": [
    "The following queues a bunch of chains that merge the flags first and then do the gain scaling. I started a bunch of workers with concurrency 10 for this."
   ]
  },
  {
   "cell_type": "code",
   "execution_count": 13,
   "metadata": {},
   "outputs": [],
   "source": [
    "for i in range(len(day1)):\n",
    "    for spw in range(22):\n",
    "        ms1 = glob.glob(f'{day1[i]}/{spw:02d}_*ms')[0]\n",
    "        ms2 = glob.glob(f'{day2[i]}/{spw:02d}_*ms')[0]\n",
    "        (boilerplate.run_merge_flags.si(ms1, ms2) | boilerplate.run_correct_scaling.si(ms1, ms2))()"
   ]
  },
  {
   "cell_type": "markdown",
   "metadata": {},
   "source": [
    "The following queues a bunch of concat runs. I changed the concurrency to 4 (see next section) before running this so that 4 concat runs on each node."
   ]
  },
  {
   "cell_type": "code",
   "execution_count": 19,
   "metadata": {},
   "outputs": [],
   "source": [
    "for spw in range(22):\n",
    "    s = f'{spw:02d}'\n",
    "    boilerplate.run_integrate_with_concat.delay(sorted(glob.glob(f'{DATA_DIR}/2018-03-22/2018*T*/{s}_*ms')),\n",
    "                                            out_ms=f'{DATA_DIR}/2018-03-22/{s}_10min.ms')\n",
    "    boilerplate.run_integrate_with_concat.delay(sorted(glob.glob(f'{DATA_DIR}/2018-03-23/2018*T*/{s}_*ms')),\n",
    "                                            out_ms=f'{DATA_DIR}/2018-03-23/{s}_10min.ms')"
   ]
  },
  {
   "cell_type": "markdown",
   "metadata": {},
   "source": [
    "# Worker control (still a work in progress)\n",
    "Changing worker capacity, etc.\n",
    "\n",
    "You should probably use the `start_workers.py` script to start workers across the cluster. The following commands show how you would change the concurrency for the workers (each node currently has one worker and each worker runs `concurrency` tasks in parallel via subprocessing."
   ]
  },
  {
   "cell_type": "code",
   "execution_count": 14,
   "metadata": {},
   "outputs": [],
   "source": [
    "from orca.proj.celery import app\n",
    "from celery.app.control import Control\n",
    "controller = Control(app)"
   ]
  },
  {
   "cell_type": "markdown",
   "metadata": {},
   "source": [
    "You can increase the concurrency per node using `pool_grow(x)` where `x` is the number of concurrencies to add to each node"
   ]
  },
  {
   "cell_type": "code",
   "execution_count": 35,
   "metadata": {},
   "outputs": [],
   "source": [
    "controller.pool_grow(7)"
   ]
  },
  {
   "cell_type": "markdown",
   "metadata": {},
   "source": [
    "Shrinking capacity is still a work in progress. You can only use the following command when workers aren't doing work."
   ]
  },
  {
   "cell_type": "code",
   "execution_count": 18,
   "metadata": {},
   "outputs": [],
   "source": [
    "controller.pool_shrink(7)"
   ]
  }
 ],
 "metadata": {
  "kernelspec": {
   "display_name": "orca",
   "language": "python",
   "name": "orca"
  },
  "language_info": {
   "codemirror_mode": {
    "name": "ipython",
    "version": 3
   },
   "file_extension": ".py",
   "mimetype": "text/x-python",
   "name": "python",
   "nbconvert_exporter": "python",
   "pygments_lexer": "ipython3",
   "version": "3.6.10"
  }
 },
 "nbformat": 4,
 "nbformat_minor": 4
}
